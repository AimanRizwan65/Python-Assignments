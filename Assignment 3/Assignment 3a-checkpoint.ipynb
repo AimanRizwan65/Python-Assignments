{
 "cells": [
  {
   "cell_type": "code",
   "execution_count": 1,
   "id": "cf5fb1da",
   "metadata": {},
   "outputs": [
    {
     "name": "stdout",
     "output_type": "stream",
     "text": [
      "Twinkle, twinkle, little star, \n",
      "\t How I wonder what you are \n",
      "\t\t Up above the world so high,\n",
      "\t\t Like a diamond in the sky. \n",
      " Twinkle, twinkle, little star,\n",
      "\t How I wonder what you are\n"
     ]
    }
   ],
   "source": [
    "\"\"\" Q.1) Write a Python program to print the following string in a specific format (see the\n",
    "output).\n",
    "Twinkle, twinkle, little star,\n",
    "          How I wonder what you are!\n",
    "               Up above the world so high,\n",
    "               Like a diamond in the sky.\n",
    "Twinkle, twinkle, little star,\n",
    "          How I wonder what you are \"\"\"\n",
    "\n",
    "\n",
    "print(\"Twinkle, twinkle, little star, \\n\\t How I wonder what you are \\n\\t\\t Up above the world so high,\\n\\t\\t Like a diamond in the sky. \\n Twinkle, twinkle, little star,\\n\\t How I wonder what you are\")\n"
   ]
  },
  {
   "cell_type": "code",
   "execution_count": 2,
   "id": "e8723cf9",
   "metadata": {},
   "outputs": [
    {
     "name": "stdout",
     "output_type": "stream",
     "text": [
      "Python version: 3.8.8 (default, Apr 13 2021, 15:08:03) [MSC v.1916 64 bit (AMD64)]\n"
     ]
    }
   ],
   "source": [
    "# Q.2) Write a Python program to get the Python version you are using\n",
    "\n",
    "import sys\n",
    "print(\"Python version:\" , sys.version )\n"
   ]
  },
  {
   "cell_type": "code",
   "execution_count": 3,
   "id": "49113bc3",
   "metadata": {},
   "outputs": [
    {
     "name": "stdout",
     "output_type": "stream",
     "text": [
      "2021-10-26 00:35:41.046713\n"
     ]
    }
   ],
   "source": [
    "# Q.3) Write a Python program to display the current date and time.\n",
    "\n",
    "\n",
    "import datetime\n",
    "\n",
    "x = datetime.datetime.now()\n",
    "print(x)"
   ]
  },
  {
   "cell_type": "code",
   "execution_count": 4,
   "id": "69c091b4",
   "metadata": {},
   "outputs": [
    {
     "name": "stdout",
     "output_type": "stream",
     "text": [
      "Enter Radius Of a circle:5\n",
      "Area of a circle is 78.53981633974483\n"
     ]
    }
   ],
   "source": [
    "\"\"\" Q.4) Write a Python program which accepts the radius of a circle from the user and compute\n",
    "the area. \"\"\"\n",
    "\n",
    "import math\n",
    "rad = int(input(\"Enter Radius Of a circle:\"));\n",
    "area = math.pi*rad**2\n",
    "print(\"Area of a circle is \" + str(area))"
   ]
  },
  {
   "cell_type": "code",
   "execution_count": 5,
   "id": "728c6ae1",
   "metadata": {},
   "outputs": [
    {
     "name": "stdout",
     "output_type": "stream",
     "text": [
      "First Name: aiman\n",
      "Last Name: rizwan\n",
      "rizwan aiman\n"
     ]
    }
   ],
   "source": [
    "\"\"\" Q.5) Write a Python program which accepts the user's first and last name and print them in\n",
    "reverse order with a space between them.\"\"\"\n",
    "\n",
    "\n",
    "firstname = input(\"First Name: \");\n",
    "lastname = input(\"Last Name: \");\n",
    "print (lastname + \" \" + firstname)"
   ]
  },
  {
   "cell_type": "code",
   "execution_count": 6,
   "id": "af559517",
   "metadata": {},
   "outputs": [
    {
     "name": "stdout",
     "output_type": "stream",
     "text": [
      "Enter First Number: 4\n",
      "Enter Second Number: 6\n",
      "Sum:10\n"
     ]
    }
   ],
   "source": [
    "# Q.6) Write a python program which takes two inputs from user and print them addition \n",
    "\n",
    "\n",
    "a = int(input(\"Enter First Number: \"));\n",
    "b = int(input(\"Enter Second Number: \"));\n",
    "sum = a + b;\n",
    "print(\"Sum:\"+ str(sum))\n"
   ]
  },
  {
   "cell_type": "code",
   "execution_count": 7,
   "id": "f7f72686",
   "metadata": {},
   "outputs": [
    {
     "name": "stdout",
     "output_type": "stream",
     "text": [
      "Enter English Marks:76\n",
      "Enter Mathematics Marks:87\n",
      "Enter Urdu Marks:98\n",
      "Enter Science Marks:87\n",
      "Enter Computer Marks:94\n",
      " obtained marks:442\n",
      "Percentage:88.4\n",
      "Grade A+\n"
     ]
    }
   ],
   "source": [
    "\"\"\" Q.7) Write a program which takes 5 inputs from user for different subject’s marks, total it\n",
    "and generate mark sheet using grades ? \"\"\"\n",
    "\n",
    "eng = int(input(\"Enter English Marks:\"));\n",
    "math = int(input(\"Enter Mathematics Marks:\"));\n",
    "urdu = int(input(\"Enter Urdu Marks:\"));\n",
    "sci = int(input(\"Enter Science Marks:\"));\n",
    "comp = int(input(\"Enter Computer Marks:\"));\n",
    "total = 500;\n",
    "obt_marks = eng + math + urdu + sci + comp;\n",
    "percent = obt_marks*100/total;\n",
    "print (\" obtained marks:\" + str(obt_marks));\n",
    "print (\"Percentage:\" + str(percent));\n",
    "if percent < 100 and percent >= 80:\n",
    "    print (\"Grade A+\");\n",
    "elif percent < 80 and percent >= 70:\n",
    "    print (\"Grade A\");\n",
    "elif percent < 70 and percent >= 60:\n",
    "    print (\"Grade B\");\n",
    "elif percent < 60 and percent >= 50:\n",
    "    print (\"Grade C\");\n",
    "elif percent < 50 and percent >= 40:\n",
    "    print (\"Grade D\");\n",
    "elif percent < 40 and percent >= 33:\n",
    "    print (\"Grade E\");\n",
    "else:\n",
    "    print (\"Fail\");"
   ]
  },
  {
   "cell_type": "code",
   "execution_count": 8,
   "id": "37238dd8",
   "metadata": {},
   "outputs": [
    {
     "name": "stdout",
     "output_type": "stream",
     "text": [
      "Enter a number:54\n",
      "54 is an Even Number\n"
     ]
    }
   ],
   "source": [
    "\"\"\" Q.8) Write a program which take input from user and identify that the given number is even\n",
    "or odd?\"\"\"\n",
    "\n",
    "\n",
    "num = int(input(\"Enter a number:\"))\n",
    "x = num % 2;\n",
    "if x == 0:\n",
    "    print(str(num) + \" \" + \"is an Even Number\")\n",
    "else:\n",
    "   print(str(num) + \" \" + \"is Odd number\")"
   ]
  },
  {
   "cell_type": "code",
   "execution_count": 9,
   "id": "22533999",
   "metadata": {},
   "outputs": [
    {
     "name": "stdout",
     "output_type": "stream",
     "text": [
      "6\n"
     ]
    }
   ],
   "source": [
    "# Q.9) Write a program which print the length of the list?\n",
    "\n",
    "list = [\"cat\",\"dog\",\"lion\",\"tiger\",\"fox\",\"elephant\"];\n",
    "print(len(list))"
   ]
  },
  {
   "cell_type": "code",
   "execution_count": 1,
   "id": "b5237ab2",
   "metadata": {},
   "outputs": [
    {
     "name": "stdout",
     "output_type": "stream",
     "text": [
      "Enter Number of Elements:4\n",
      "Enter Elements:3\n",
      "Enter Elements:7\n",
      "Enter Elements:9\n",
      "Enter Elements:7\n",
      "The sum of all Elements is 26\n"
     ]
    }
   ],
   "source": [
    "# Q.10) Write a Python program to sum all the numeric items in a list? \n",
    "\n",
    "list = []\n",
    "x = int(input(\"Enter Number of Elements:\"))\n",
    "for i in range (x):\n",
    "    num = int(input(\"Enter Elements:\"))\n",
    "    list.append(num)\n",
    "print(\"The sum of all Elements is \" + str(sum(list)))"
   ]
  },
  {
   "cell_type": "code",
   "execution_count": 12,
   "id": "783d6312",
   "metadata": {},
   "outputs": [
    {
     "name": "stdout",
     "output_type": "stream",
     "text": [
      "Enter Number Of Elements:4\n",
      "Enter Number: 54\n",
      "Enter Number: 65\n",
      "Enter Number: 76\n",
      "Enter Number: 45\n",
      "Largest Number in list is  76\n"
     ]
    }
   ],
   "source": [
    "# Q.11) Write a Python program to get the largest number from a numeric list.\n",
    "\n",
    "\n",
    "list = []\n",
    "y = int(input(\"Enter Number Of Elements:\"))\n",
    "for n in range(y):\n",
    "    num = int(input(\"Enter Number: \"))\n",
    "    list.append(num)\n",
    "print(\"Largest Number in list is \" ,max(list)) \n"
   ]
  },
  {
   "cell_type": "code",
   "execution_count": 13,
   "id": "a7787d4d",
   "metadata": {},
   "outputs": [
    {
     "name": "stdout",
     "output_type": "stream",
     "text": [
      "1\n",
      "1\n",
      "3\n",
      "4\n",
      "3\n",
      "1\n",
      "4\n",
      "4\n",
      "3\n"
     ]
    }
   ],
   "source": [
    "\"\"\" Q.12) Take a list, say for example this one:\n",
    "\n",
    "a = [1, 1, 2, 3, 5, 8, 13, 21, 34, 55, 89]\n",
    " Write a program that prints out all the elements of the list that are less than 5. \"\"\"\n",
    "\n",
    "\n",
    "list = [1,1,3,4,7,98,5,3,7,1,5,4,4,3]\n",
    "for n in list:\n",
    "    if n < 5:\n",
    "        print(n)"
   ]
  },
  {
   "cell_type": "code",
   "execution_count": null,
   "id": "efa9f37b",
   "metadata": {},
   "outputs": [],
   "source": []
  }
 ],
 "metadata": {
  "kernelspec": {
   "display_name": "Python 3",
   "language": "python",
   "name": "python3"
  },
  "language_info": {
   "codemirror_mode": {
    "name": "ipython",
    "version": 3
   },
   "file_extension": ".py",
   "mimetype": "text/x-python",
   "name": "python",
   "nbconvert_exporter": "python",
   "pygments_lexer": "ipython3",
   "version": "3.8.8"
  }
 },
 "nbformat": 4,
 "nbformat_minor": 5
}
