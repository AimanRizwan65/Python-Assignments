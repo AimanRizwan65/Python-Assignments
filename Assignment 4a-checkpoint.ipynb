{
 "cells": [
  {
   "cell_type": "code",
   "execution_count": 1,
   "id": "778be473",
   "metadata": {},
   "outputs": [
    {
     "name": "stdout",
     "output_type": "stream",
     "text": [
      "Enter First Number: 45\n",
      "Enter Second Number: 76\n",
      "Calculation Options: \n",
      "1:Addition\n",
      "2:Subtraction\n",
      "3:Multiplication\n",
      "4:Division\n",
      "5:Power\n",
      "Select operator choice: 1\n",
      "121\n"
     ]
    }
   ],
   "source": [
    "#Q.no.1  Make a calculator using python with addition, subtraction, mutiplication, division and power\n",
    "\n",
    "\n",
    "a = int(input(\"Enter First Number: \"))\n",
    "b = int(input(\"Enter Second Number: \"))\n",
    "\n",
    "print(\"Calculation Options: \")\n",
    "print(\"1:Addition\")\n",
    "print(\"2:Subtraction\")\n",
    "print(\"3:Multiplication\")\n",
    "print(\"4:Division\")\n",
    "print(\"5:Power\")\n",
    "op = input(\"Select operator choice: \")\n",
    "\n",
    "if op == \"1\":\n",
    "    print(a+b)\n",
    "if op == \"2\":\n",
    "    print(a-b)\n",
    "if op == \"3\":\n",
    "    print(a*b)\n",
    "if op == \"4\":\n",
    "    print(a/b)\n",
    "if op == \"5\":\n",
    "    print(a**b)"
   ]
  },
  {
   "cell_type": "code",
   "execution_count": 2,
   "id": "6414acff",
   "metadata": {},
   "outputs": [
    {
     "name": "stdout",
     "output_type": "stream",
     "text": [
      "1\n",
      "8\n",
      "987\n",
      "3\n"
     ]
    }
   ],
   "source": [
    "#Q.no.2  Write a program to check if there is any numeric value in list using for loop.\n",
    "\n",
    "list1 = ['a',1,'abc',8,987,3,'x''y']\n",
    "for a in list1:\n",
    "    if type(a) == int:\n",
    "        print(a)"
   ]
  },
  {
   "cell_type": "code",
   "execution_count": 3,
   "id": "f7d99d12",
   "metadata": {},
   "outputs": [
    {
     "name": "stdout",
     "output_type": "stream",
     "text": [
      "1 apple\n",
      "2 banana\n",
      "3 grapes\n",
      "4 orange\n",
      "5 pineapple\n",
      "6 watermelon\n"
     ]
    }
   ],
   "source": [
    "#Q.no.3  Write a python script to add a key to a dictionary.\n",
    "\n",
    "x = {1:'apple', 2:'banana', 3:'grapes', 4:'orange'}\n",
    "\n",
    "x [5] = 'pineapple'\n",
    "x [6] = 'watermelon'\n",
    "\n",
    "for i,j in x.items():\n",
    "    print(i,j)"
   ]
  },
  {
   "cell_type": "code",
   "execution_count": 4,
   "id": "397b1136",
   "metadata": {},
   "outputs": [
    {
     "name": "stdout",
     "output_type": "stream",
     "text": [
      "1469\n"
     ]
    }
   ],
   "source": [
    "#Q.no.4  Write a Python program to sum all the numeric items in a dictionary.\n",
    "\n",
    "dictionary = {\"a\":123,\"b\":453,\"c\":893}\n",
    "total = sum(dictionary.values())\n",
    "print(total)"
   ]
  },
  {
   "cell_type": "code",
   "execution_count": 5,
   "id": "a1e28a0a",
   "metadata": {},
   "outputs": [
    {
     "name": "stdout",
     "output_type": "stream",
     "text": [
      "[5, 8, 9, 6, 2, 3, 0]\n"
     ]
    }
   ],
   "source": [
    "#Q.no.5  Write a python program to identify duplicate values from list.\n",
    "\n",
    "xyz = [5,8,9,6,8,9,2,5,3,0,8,2] \n",
    "dup = [] \n",
    "for i in xyz: \n",
    "    if i not in dup: \n",
    "        dup.append(i) \n",
    "print (dup)"
   ]
  },
  {
   "cell_type": "code",
   "execution_count": 6,
   "id": "cee7eb3e",
   "metadata": {},
   "outputs": [
    {
     "name": "stdout",
     "output_type": "stream",
     "text": [
      "Input Key: two\n",
      "two is Present.\n"
     ]
    }
   ],
   "source": [
    "#Q.no.6  Write a python script to check if a given key already exists in a dictionary.\n",
    "\n",
    "dict1 = {'one':3,'two':5,'three':6,'four':9, 'five': 6}\n",
    "check = input(\"Input Key: \")\n",
    "\n",
    "if check in dict1.keys():\n",
    "   print(check,\"is Present.\")\n",
    "else:\n",
    "   print(check, \" is not Present.\")"
   ]
  },
  {
   "cell_type": "code",
   "execution_count": null,
   "id": "e752827e",
   "metadata": {},
   "outputs": [],
   "source": []
  }
 ],
 "metadata": {
  "kernelspec": {
   "display_name": "Python 3",
   "language": "python",
   "name": "python3"
  },
  "language_info": {
   "codemirror_mode": {
    "name": "ipython",
    "version": 3
   },
   "file_extension": ".py",
   "mimetype": "text/x-python",
   "name": "python",
   "nbconvert_exporter": "python",
   "pygments_lexer": "ipython3",
   "version": "3.8.8"
  }
 },
 "nbformat": 4,
 "nbformat_minor": 5
}
